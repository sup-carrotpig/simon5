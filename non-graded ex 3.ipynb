{
 "cells": [
  {
   "cell_type": "markdown",
   "metadata": {},
   "source": [
    "Create a treasure hunt game where a user has to figure out the location of the treasure on a grid by using just the commands of E, W, N, and S, indicating East, West, North, and South, respectively. \n",
    "\n",
    "REQUIREMENTS:\n",
    "1. Define the size of the grid. It could be any number, but start from 5\n",
    "2. Assign the player a random position on the map. Do the same for the location of the treasure. (HINT: use randint() to generate a random set of coordinates)\n",
    "    2.1. Since it's 2-dimensional grid, the location of both the player and the treasure will be coordinates, like (x,y)\n",
    "3. Decide the maximum moves the player can make and keep track of the number of moves.\n",
    "4. Calculate the initial distance between the player and the treasure location\n",
    "5. Allow player to make as many moves as maximum moves allowed\n",
    "    5.1. Depending on which direction the player moves (N, S, E, or W), recalculate player's position and their distance from the treasure location\n",
    "    5.2. If the move brings player closer to the treasure, let the user know that they are getting closer\n",
    "    5.3. If the move takes player away from the treasure, let the user know that they are moving farther\n",
    "    5.4. If the player makes an illegal move, then let the user know that that move is not allowed. \n",
    "    5.5. If the new player position is the same as the treasure position, let the user know that they have found the treasure\n",
    "    5.6. If the moves made by the player are the same as maximum moves allowed, let the user know that no more moves are possible and that they have lost the game. Also show them where the treasure was located.\n",
    "    5.7. If there are still moves left, then the game should continue and keep asking the user for their moves. \n"
   ]
  },
  {
   "cell_type": "code",
   "execution_count": 5,
   "metadata": {},
   "outputs": [
    {
     "name": "stdout",
     "output_type": "stream",
     "text": [
      "Treasure Hunt Game\n",
      "Player position: [1, 3]\n",
      "Distance to the treasure: 2\n",
      "You are moving farther from the treasure.\n",
      "You are getting closer to the treasure.\n",
      "You are getting closer to the treasure.\n",
      "You are moving farther from the treasure.\n",
      "You are getting closer to the treasure.\n",
      "Congratulations! You found the treasure!\n",
      "Out of moves! The treasure was located at [2, 2]. Game over.\n"
     ]
    }
   ],
   "source": [
    "import random\n",
    "\n",
    "def calculate_distance(player_pos, treasure_pos):\n",
    "    return abs(player_pos[0] - treasure_pos[0]) + abs(player_pos[1] - treasure_pos[1])\n",
    "\n",
    "grid_size = 5\n",
    "max_moves = 10\n",
    "player_position = [random.randint(0, grid_size - 1), random.randint(0, grid_size - 1)]\n",
    "treasure_position = [random.randint(0, grid_size - 1), random.randint(0, grid_size - 1)]\n",
    "distance = calculate_distance(player_position, treasure_position)\n",
    "\n",
    "print(f\"Treasure Hunt Game\")\n",
    "print(f\"Player position: {player_position}\")\n",
    "print(f\"Distance to the treasure: {distance}\")\n",
    "\n",
    "for move in range(max_moves):\n",
    "    direction = input(\"Enter your move (N for North, S for South, E for East, W for West): \").upper()\n",
    "    \n",
    "    if direction not in ['N', 'S', 'E', 'W']:\n",
    "        print(\"Illegal move! Please enter a valid direction.\")\n",
    "        continue\n",
    "    \n",
    "    if direction == 'N':\n",
    "        player_position[1] += 1\n",
    "    elif direction == 'S':\n",
    "        player_position[1] -= 1\n",
    "    elif direction == 'E':\n",
    "        player_position[0] += 1\n",
    "    elif direction == 'W':\n",
    "        player_position[0] -= 1\n",
    "    \n",
    "    new_distance = calculate_distance(player_position, treasure_position)\n",
    "    \n",
    "    if new_distance == 0:\n",
    "        print(\"Congratulations! You found the treasure!\")\n",
    "        break\n",
    "    elif new_distance < distance:\n",
    "        print(\"You are getting closer to the treasure.\")\n",
    "    elif new_distance > distance:\n",
    "        print(\"You are moving farther from the treasure.\")\n",
    "    \n",
    "    distance = new_distance\n",
    "\n",
    "if distance != 0:\n",
    "    print(f\"Out of moves! The treasure was located at {treasure_position}. Game over.\")\n",
    "\n"
   ]
  }
 ],
 "metadata": {
  "kernelspec": {
   "display_name": "Python 3",
   "language": "python",
   "name": "python3"
  },
  "language_info": {
   "codemirror_mode": {
    "name": "ipython",
    "version": 3
   },
   "file_extension": ".py",
   "mimetype": "text/x-python",
   "name": "python",
   "nbconvert_exporter": "python",
   "pygments_lexer": "ipython3",
   "version": "3.8.10"
  }
 },
 "nbformat": 4,
 "nbformat_minor": 2
}
